{
 "cells": [
  {
   "cell_type": "code",
   "execution_count": 1,
   "id": "0448228c-4ef2-4bf5-9032-7fa8a4597f7f",
   "metadata": {},
   "outputs": [],
   "source": [
    "import pandas as pd\n",
    "import seaborn as sns\n",
    "import matplotlib.pyplot as plt\n",
    "import math\n",
    "import os\n",
    "from tqdm import tqdm"
   ]
  },
  {
   "cell_type": "markdown",
   "id": "5a04e299-e3fe-440b-a179-b99afecc723d",
   "metadata": {},
   "source": [
    "### Set up HF"
   ]
  },
  {
   "cell_type": "code",
   "execution_count": 2,
   "id": "9f9241f9-679c-4409-9bb8-472087b65603",
   "metadata": {},
   "outputs": [],
   "source": [
    "# Imports the client side code for interfacing with the HF API\n",
    "from lib.hf_client import HFClient"
   ]
  },
  {
   "cell_type": "code",
   "execution_count": 3,
   "id": "7fea1b67-a5db-43c1-8d2d-fcceddf7180b",
   "metadata": {},
   "outputs": [],
   "source": [
    "api_key = os.getenv(\"HF_API_KEY\")\n",
    "org = os.getenv(\"HF_ORG\")\n",
    "\n",
    "hf_client = HFClient(api_key, org, use_tqdm=True, kill_endpoint_on_exit=False)"
   ]
  },
  {
   "cell_type": "markdown",
   "id": "f851c7a1-5b71-4649-ac82-510e38332e32",
   "metadata": {},
   "source": [
    "### Models"
   ]
  },
  {
   "cell_type": "code",
   "execution_count": 11,
   "id": "f8051c83-a440-40b6-8dad-3816159e7bda",
   "metadata": {},
   "outputs": [],
   "source": [
    "MODELS = {\n",
    "    \"meta-llama/Meta-Llama-3-70B\": \"Llama 3 70b\",\n",
    "    \"meta-llama/Meta-Llama-3-8B\": \"Llama 3 8b\",\n",
    "    \"meta-llama/Meta-Llama-3-8B-Instruct\": \"Llama 3 8b instruct\",\n",
    "    \"meta-llama/Llama-3.1-70B\": \"Llama 3.1 70b\",\n",
    "    \"mistralai/Mixtral-8x7B-v0.1\": \"Mixtral 8x7b\",\n",
    "    \"mistralai/Mixtral-8x22B-v0.1\": \"Mixtral 8x22b\",\n",
    "    # \"EleutherAI/pythia-6.9b\": \"Pythia 6.9B\",\n",
    "    # \"EleutherAI/pythia-12b\": \"Pythia 12B\"\n",
    "}"
   ]
  },
  {
   "cell_type": "code",
   "execution_count": 70,
   "id": "58bec2bb-6e4d-4eb3-a7f5-3baeec4e6354",
   "metadata": {},
   "outputs": [],
   "source": [
    "# selected_model = \"meta-llama/Meta-Llama-3-8B-Instruct\"\n",
    "selected_model = \"meta-llama/Meta-Llama-3-8B\"\n",
    "\n",
    "if selected_model not in MODELS:\n",
    "    selected_model = None\n",
    "    raise ValueError(f\"Model {selected_model} not found in MODELS\")"
   ]
  },
  {
   "cell_type": "code",
   "execution_count": 71,
   "id": "4fc0c6ee-aad9-4c61-ab39-e699072323b2",
   "metadata": {},
   "outputs": [
    {
     "data": {
      "text/plain": [
       "'meta-llama/Meta-Llama-3-8B'"
      ]
     },
     "execution_count": 71,
     "metadata": {},
     "output_type": "execute_result"
    }
   ],
   "source": [
    "selected_model"
   ]
  },
  {
   "cell_type": "code",
   "execution_count": 72,
   "id": "7eb38014-4663-43ae-b0fd-8462c5963db5",
   "metadata": {},
   "outputs": [
    {
     "name": "stderr",
     "output_type": "stream",
     "text": [
      "                                                                                \r"
     ]
    }
   ],
   "source": [
    "hf_client.wait_for_model(selected_model)"
   ]
  },
  {
   "cell_type": "code",
   "execution_count": 73,
   "id": "b45e2c07-692e-4163-9d91-8006df29667e",
   "metadata": {},
   "outputs": [
    {
     "data": {
      "text/plain": [
       "'meta-llama/Meta-Llama-3-8B'"
      ]
     },
     "execution_count": 73,
     "metadata": {},
     "output_type": "execute_result"
    }
   ],
   "source": [
    "selected_model"
   ]
  },
  {
   "cell_type": "markdown",
   "id": "90ca513c-e7f0-45bc-b92b-96b81c780a03",
   "metadata": {},
   "source": [
    "### Load dataset"
   ]
  },
  {
   "cell_type": "code",
   "execution_count": 74,
   "id": "1c5b8908-dba5-428b-ab5e-fff4260f63a2",
   "metadata": {},
   "outputs": [],
   "source": [
    "df_fb = pd.read_csv(\"data/raw/fb.csv\")"
   ]
  },
  {
   "cell_type": "markdown",
   "id": "1954dc88-472b-491e-8760-ff40db0aca3f",
   "metadata": {},
   "source": [
    "### Set up task"
   ]
  },
  {
   "cell_type": "code",
   "execution_count": 75,
   "id": "c4530de4-f752-44fc-9278-07806301b536",
   "metadata": {},
   "outputs": [],
   "source": [
    "def get_logprob(passage, location):\n",
    "\n",
    "    final_passage = passage + location\n",
    "    response = hf_client.send_prompt(final_passage, max_new_tokens=1)\n",
    "\n",
    "    return response[0]['details']['prefill'][-1]\n",
    "\n",
    "results = []\n",
    "#### EXAMKPLE\n",
    "for index, row in df_fb[0:2].iterrows():\n",
    "    \n",
    "    passage = row['passage'].replace(\"[MASK].\", \"\")\n",
    "    start_location = row['start'] if passage.endswith(\" \") else \" \" + row['start']\n",
    "    end_location = row['end'] if passage.endswith(\" \") else \" \" + row['end']\n",
    "    \n",
    "    lp_start_response = get_logprob(passage, start_location)\n",
    "    lp_end_response = get_logprob(passage, end_location)\n",
    "\n",
    "    lp_start = lp_start_response['logprob']\n",
    "    lp_end = lp_end_response['logprob']\n",
    "\n",
    "    results.append({\n",
    "        'lp_start': lp_start,\n",
    "        'lp_end': lp_start,\n",
    "        'passage': row['passage'],\n",
    "        'start': row['start'],\n",
    "        'end': row['end'],\n",
    "        'knowledge_cue': row['knowledge_cue'],\n",
    "        'first_mention': row['first_mention'],\n",
    "        'recent_mention': row['recent_mention'],\n",
    "        'log_odds': lp_start - lp_end,\n",
    "        'condition': row['condition']\n",
    "    })\n",
    "\n"
   ]
  },
  {
   "cell_type": "code",
   "execution_count": 76,
   "id": "84863a04-43d9-4817-be7b-1f2f697206a0",
   "metadata": {},
   "outputs": [
    {
     "name": "stderr",
     "output_type": "stream",
     "text": [
      "100%|█████████████████████████████████████████| 192/192 [03:12<00:00,  1.00s/it]\n"
     ]
    }
   ],
   "source": [
    "results = []\n",
    "with tqdm(total=df_fb.shape[0]) as pbar:    \n",
    "    for index, row in df_fb.iterrows():\n",
    "        \n",
    "        passage = row['passage'].replace(\"[MASK].\", \"\")\n",
    "        start_location = row['start'] if passage.endswith(\" \") else \" \" + row['start']\n",
    "        end_location = row['end'] if passage.endswith(\" \") else \" \" + row['end']\n",
    "        \n",
    "        lp_start_response = get_logprob(passage, start_location)\n",
    "        lp_end_response = get_logprob(passage, end_location)\n",
    "    \n",
    "        lp_start = lp_start_response['logprob']\n",
    "        lp_end = lp_end_response['logprob']\n",
    "    \n",
    "        results.append({\n",
    "            'lp_start': lp_start,\n",
    "            'lp_end': lp_start,\n",
    "            'passage': row['passage'],\n",
    "            'start': row['start'],\n",
    "            'end': row['end'],\n",
    "            'knowledge_cue': row['knowledge_cue'],\n",
    "            'first_mention': row['first_mention'],\n",
    "            'recent_mention': row['recent_mention'],\n",
    "            'log_odds': lp_start - lp_end,\n",
    "            'condition': row['condition']\n",
    "        })\n",
    "\n",
    "\n",
    "        pbar.update(1)"
   ]
  },
  {
   "cell_type": "code",
   "execution_count": 77,
   "id": "25228030-91a8-4cb6-9944-3cb4b7a0f16b",
   "metadata": {},
   "outputs": [],
   "source": [
    "df_results = pd.DataFrame(results)"
   ]
  },
  {
   "cell_type": "code",
   "execution_count": 78,
   "id": "4ff074cf-19d0-465a-a512-efc3c1d04939",
   "metadata": {},
   "outputs": [
    {
     "data": {
      "text/plain": [
       "<Axes: xlabel='knowledge_cue', ylabel='log_odds'>"
      ]
     },
     "execution_count": 78,
     "metadata": {},
     "output_type": "execute_result"
    },
    {
     "data": {
      "image/png": "[encoded data removed]",
      "text/plain": [
       "<Figure size 640x480 with 1 Axes>"
      ]
     },
     "metadata": {},
     "output_type": "display_data"
    }
   ],
   "source": [
    "sns.barplot(data = df_results, x = \"knowledge_cue\", y = \"log_odds\", hue = \"condition\")"
   ]
  },
  {
   "cell_type": "code",
   "execution_count": 45,
   "id": "f1414ab4-2d81-495d-8938-957b702d32c9",
   "metadata": {},
   "outputs": [],
   "source": [
    "def calculate_accuracy(row):\n",
    "    if row['condition'] == 'False Belief':\n",
    "        return row['log_odds'] > 0\n",
    "    else:\n",
    "        return row['log_odds'] < 1"
   ]
  },
  {
   "cell_type": "code",
   "execution_count": 46,
   "id": "d6406386-da0d-430d-9e0e-a1e555933ff6",
   "metadata": {},
   "outputs": [],
   "source": [
    "df_results['correct'] = df_results.apply(calculate_accuracy, axis = 1)"
   ]
  },
  {
   "cell_type": "code",
   "execution_count": 47,
   "id": "696265bc-3706-4706-a492-eeb6811c1878",
   "metadata": {},
   "outputs": [
    {
     "data": {
      "text/plain": [
       "0.59375"
      ]
     },
     "execution_count": 47,
     "metadata": {},
     "output_type": "execute_result"
    }
   ],
   "source": [
    "df_results['correct'].mean()"
   ]
  },
  {
   "cell_type": "code",
   "execution_count": null,
   "id": "aa258a57-0586-42e7-9b79-5cc64f6d7115",
   "metadata": {},
   "outputs": [],
   "source": []
  },
  {
   "cell_type": "code",
   "execution_count": null,
   "id": "c82885a0-487b-4f51-b5e8-9e3d2f42e375",
   "metadata": {},
   "outputs": [],
   "source": []
  },
  {
   "cell_type": "code",
   "execution_count": null,
   "id": "3bad73ac-bff6-4155-bba7-a304cf9f6c4b",
   "metadata": {},
   "outputs": [],
   "source": []
  },
  {
   "cell_type": "code",
   "execution_count": null,
   "id": "40028a41-6a7b-49c1-9820-3de0e3205ad3",
   "metadata": {},
   "outputs": [],
   "source": []
  },
  {
   "cell_type": "code",
   "execution_count": null,
   "id": "1436de3f-85af-4c27-8515-7f1c30c881aa",
   "metadata": {},
   "outputs": [],
   "source": []
  },
  {
   "cell_type": "code",
   "execution_count": null,
   "id": "175b768a-77a8-4d76-9c67-9c95fc43715d",
   "metadata": {},
   "outputs": [],
   "source": []
  },
  {
   "cell_type": "code",
   "execution_count": 32,
   "id": "7d8e41af-9d60-48e9-ba30-ae62e7b34880",
   "metadata": {},
   "outputs": [],
   "source": [
    "import sys"
   ]
  },
  {
   "cell_type": "code",
   "execution_count": 33,
   "id": "4f50cdc4-e82d-49bc-a50e-c2e8cf1606c4",
   "metadata": {},
   "outputs": [
    {
     "data": {
      "text/plain": [
       "'/Users/seantrott/anaconda3/bin/python'"
      ]
     },
     "execution_count": 33,
     "metadata": {},
     "output_type": "execute_result"
    }
   ],
   "source": [
    "sys.executable"
   ]
  },
  {
   "cell_type": "code",
   "execution_count": null,
   "id": "3b0f23aa-0841-4648-a38c-0b90e60c2bab",
   "metadata": {},
   "outputs": [],
   "source": []
  }
 ],
 "metadata": {
  "kernelspec": {
   "display_name": "Python 3 (ipykernel)",
   "language": "python",
   "name": "python3"
  },
  "language_info": {
   "codemirror_mode": {
    "name": "ipython",
    "version": 3
   },
   "file_extension": ".py",
   "mimetype": "text/x-python",
   "name": "python",
   "nbconvert_exporter": "python",
   "pygments_lexer": "ipython3",
   "version": "3.11.0"
  }
 },
 "nbformat": 4,
 "nbformat_minor": 5
}

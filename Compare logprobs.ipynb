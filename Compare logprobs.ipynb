{
 "cells": [
  {
   "cell_type": "code",
   "execution_count": 1,
   "id": "499c17df-3660-40bf-aa04-51bc5ffacc18",
   "metadata": {},
   "outputs": [],
   "source": [
    "import pandas as pd\n",
    "import seaborn as sns\n",
    "import scipy.stats as ss\n",
    "import matplotlib.pyplot as plt\n",
    "import numpy as np"
   ]
  },
  {
   "cell_type": "code",
   "execution_count": 2,
   "id": "ce7b103f-10b6-48db-833d-393b8006e51e",
   "metadata": {},
   "outputs": [],
   "source": [
    "df_logprobs = pd.read_csv(\"../tom-tasks-private/preprocessed_logprobs.tsv\", sep = \"\\t\")"
   ]
  },
  {
   "cell_type": "code",
   "execution_count": 3,
   "id": "7b97f812-c1b7-418d-8fe7-fc2a2184a6db",
   "metadata": {},
   "outputs": [
    {
     "data": {
      "text/plain": [
       "Index(['item_id', 'logprob', 'EleutherAI__pythia-14m___main',\n",
       "       'meta-llama__Meta-Llama-3-8B-Instruct___main',\n",
       "       'EleutherAI__pythia-31m___main', 'allenai__OLMo-2-1124-13B-DPO___main',\n",
       "       'allenai__OLMo-2-1124-13B___main', 'EleutherAI__pythia-6.9b___main',\n",
       "       'meta-llama__Meta-Llama-3-8B___main', 'EleutherAI__pythia-2.8b___main',\n",
       "       'allenai__OLMo-2-1124-13B-SFT___main',\n",
       "       'mistralai__Mistral-Nemo-Base-2407___main',\n",
       "       'EleutherAI__pythia-12b___main',\n",
       "       'nvidia__Llama-3.1-Nemotron-Nano-8B-v1___main',\n",
       "       'EleutherAI__pythia-160m___main',\n",
       "       'allenai__OLMo-2-1124-13B-Instruct___main',\n",
       "       'EleutherAI__pythia-70m___main', 'EleutherAI__pythia-410m___main',\n",
       "       'mistralai__Mistral-Nemo-Instruct-2407___main',\n",
       "       'EleutherAI__pythia-1b___main', 'EleutherAI__pythia-1.4b___main'],\n",
       "      dtype='object')"
      ]
     },
     "execution_count": 3,
     "metadata": {},
     "output_type": "execute_result"
    }
   ],
   "source": [
    "df_logprobs.columns"
   ]
  },
  {
   "cell_type": "code",
   "execution_count": 5,
   "id": "c00f55e8-ada0-46ec-919e-02f5181abd2c",
   "metadata": {},
   "outputs": [],
   "source": [
    "df_subset = df_logprobs[['item_id', 'logprob', 'EleutherAI__pythia-12b___main']]"
   ]
  },
  {
   "cell_type": "code",
   "execution_count": 6,
   "id": "82528223-a494-4aa4-8c2b-b51e80f37b71",
   "metadata": {},
   "outputs": [],
   "source": [
    "# df_subset = df_logprobs[['item_id', 'logprob', 'meta-llama__Meta-Llama-3-8B___main']]"
   ]
  },
  {
   "cell_type": "code",
   "execution_count": 7,
   "id": "1409fe72-8c4a-474e-b5c8-898931b7f83f",
   "metadata": {},
   "outputs": [
    {
     "data": {
      "text/plain": [
       "Index(['item_id', 'logprob', 'EleutherAI__pythia-12b___main'], dtype='object')"
      ]
     },
     "execution_count": 7,
     "metadata": {},
     "output_type": "execute_result"
    }
   ],
   "source": [
    "df_subset.columns"
   ]
  },
  {
   "cell_type": "code",
   "execution_count": 8,
   "id": "ad285660-6b3c-4291-ba8a-3124b4c0e7d7",
   "metadata": {},
   "outputs": [
    {
     "data": {
      "text/html": [
       "<div>\n",
       "<style scoped>\n",
       "    .dataframe tbody tr th:only-of-type {\n",
       "        vertical-align: middle;\n",
       "    }\n",
       "\n",
       "    .dataframe tbody tr th {\n",
       "        vertical-align: top;\n",
       "    }\n",
       "\n",
       "    .dataframe thead th {\n",
       "        text-align: right;\n",
       "    }\n",
       "</style>\n",
       "<table border=\"1\" class=\"dataframe\">\n",
       "  <thead>\n",
       "    <tr style=\"text-align: right;\">\n",
       "      <th>logprob</th>\n",
       "      <th>item_id</th>\n",
       "      <th>end_logprob</th>\n",
       "      <th>start_logprob</th>\n",
       "    </tr>\n",
       "  </thead>\n",
       "  <tbody>\n",
       "    <tr>\n",
       "      <th>0</th>\n",
       "      <td>10_fb_1_e_e_ex</td>\n",
       "      <td>-1.282227</td>\n",
       "      <td>-0.448975</td>\n",
       "    </tr>\n",
       "    <tr>\n",
       "      <th>1</th>\n",
       "      <td>10_fb_1_e_e_im</td>\n",
       "      <td>-0.258789</td>\n",
       "      <td>-1.699219</td>\n",
       "    </tr>\n",
       "    <tr>\n",
       "      <th>2</th>\n",
       "      <td>10_fb_1_e_s_ex</td>\n",
       "      <td>-1.182617</td>\n",
       "      <td>-0.464844</td>\n",
       "    </tr>\n",
       "  </tbody>\n",
       "</table>\n",
       "</div>"
      ],
      "text/plain": [
       "logprob         item_id  end_logprob  start_logprob\n",
       "0        10_fb_1_e_e_ex    -1.282227      -0.448975\n",
       "1        10_fb_1_e_e_im    -0.258789      -1.699219\n",
       "2        10_fb_1_e_s_ex    -1.182617      -0.464844"
      ]
     },
     "execution_count": 8,
     "metadata": {},
     "output_type": "execute_result"
    }
   ],
   "source": [
    "df_wide = df_subset.pivot(index='item_id', \n",
    "                   columns='logprob', \n",
    "                   values='EleutherAI__pythia-12b___main').reset_index()\n",
    "df_wide.head(3)"
   ]
  },
  {
   "cell_type": "code",
   "execution_count": 9,
   "id": "961617a3-0b4c-4d4f-9f3e-8e1930d3248f",
   "metadata": {},
   "outputs": [],
   "source": [
    "df_wide['log_odds_local'] = df_wide['start_logprob'] - df_wide['end_logprob']"
   ]
  },
  {
   "cell_type": "code",
   "execution_count": 10,
   "id": "541959be-aae3-4d5a-a1f1-67e934b05986",
   "metadata": {},
   "outputs": [
    {
     "data": {
      "text/html": [
       "<div>\n",
       "<style scoped>\n",
       "    .dataframe tbody tr th:only-of-type {\n",
       "        vertical-align: middle;\n",
       "    }\n",
       "\n",
       "    .dataframe tbody tr th {\n",
       "        vertical-align: top;\n",
       "    }\n",
       "\n",
       "    .dataframe thead th {\n",
       "        text-align: right;\n",
       "    }\n",
       "</style>\n",
       "<table border=\"1\" class=\"dataframe\">\n",
       "  <thead>\n",
       "    <tr style=\"text-align: right;\">\n",
       "      <th></th>\n",
       "      <th>item_id</th>\n",
       "      <th>passage</th>\n",
       "      <th>condition</th>\n",
       "    </tr>\n",
       "  </thead>\n",
       "  <tbody>\n",
       "    <tr>\n",
       "      <th>0</th>\n",
       "      <td>7_fb_1_s_e_ex</td>\n",
       "      <td>David and Marta go out to get some wine for th...</td>\n",
       "      <td>False Belief</td>\n",
       "    </tr>\n",
       "    <tr>\n",
       "      <th>1</th>\n",
       "      <td>7_fb_1_s_e_im</td>\n",
       "      <td>David and Marta go out to get some wine for th...</td>\n",
       "      <td>False Belief</td>\n",
       "    </tr>\n",
       "    <tr>\n",
       "      <th>2</th>\n",
       "      <td>7_tb_1_s_e_ex</td>\n",
       "      <td>David and Marta go out to get some wine for th...</td>\n",
       "      <td>True Belief</td>\n",
       "    </tr>\n",
       "  </tbody>\n",
       "</table>\n",
       "</div>"
      ],
      "text/plain": [
       "         item_id                                            passage  \\\n",
       "0  7_fb_1_s_e_ex  David and Marta go out to get some wine for th...   \n",
       "1  7_fb_1_s_e_im  David and Marta go out to get some wine for th...   \n",
       "2  7_tb_1_s_e_ex  David and Marta go out to get some wine for th...   \n",
       "\n",
       "      condition  \n",
       "0  False Belief  \n",
       "1  False Belief  \n",
       "2   True Belief  "
      ]
     },
     "execution_count": 10,
     "metadata": {},
     "output_type": "execute_result"
    }
   ],
   "source": [
    "df_passages = pd.read_csv(\"data/raw/fb.csv\")[['item_id', 'passage', 'condition']]\n",
    "df_passages.head(3)"
   ]
  },
  {
   "cell_type": "code",
   "execution_count": 11,
   "id": "bcec22e3-a5fb-4aa3-82c0-01c588867464",
   "metadata": {},
   "outputs": [],
   "source": [
    "df_merged = pd.merge(df_passages, df_wide)"
   ]
  },
  {
   "cell_type": "code",
   "execution_count": 12,
   "id": "24432e51-5b5b-42cd-9883-32feab69ced2",
   "metadata": {},
   "outputs": [
    {
     "data": {
      "text/plain": [
       "(192, 6)"
      ]
     },
     "execution_count": 12,
     "metadata": {},
     "output_type": "execute_result"
    }
   ],
   "source": [
    "df_merged.shape"
   ]
  },
  {
   "cell_type": "code",
   "execution_count": 13,
   "id": "5f062a52-ebc8-4719-b6d3-a9ec1d91218e",
   "metadata": {},
   "outputs": [],
   "source": [
    "df_llama = pd.read_csv(\"data/processed/fb/fb-pythia-12b.csv\")[['passage', 'lp_start', 'lp_end', 'log_odds', 'condition', 'start', 'end']]"
   ]
  },
  {
   "cell_type": "code",
   "execution_count": 14,
   "id": "3d643315-3f6e-4fed-b55e-2fefbaf2abcd",
   "metadata": {},
   "outputs": [
    {
     "data": {
      "text/plain": [
       "(192, 11)"
      ]
     },
     "execution_count": 14,
     "metadata": {},
     "output_type": "execute_result"
    }
   ],
   "source": [
    "df_all = pd.merge(df_merged, df_llama)\n",
    "df_all.shape"
   ]
  },
  {
   "cell_type": "code",
   "execution_count": 20,
   "id": "a17aecbd-6fbf-4e06-bdf7-e3b688557121",
   "metadata": {},
   "outputs": [
    {
     "data": {
      "text/plain": [
       "Text(0, 0.5, 'HF endpoint estimation')"
      ]
     },
     "execution_count": 20,
     "metadata": {},
     "output_type": "execute_result"
    },
    {
     "data": {
      "image/png": "[encoded data removed]",
      "text/plain": [
       "<Figure size 640x480 with 1 Axes>"
      ]
     },
     "metadata": {},
     "output_type": "display_data"
    }
   ],
   "source": [
    "sns.scatterplot(data = df_all, x = \"start_logprob\", y = \"lp_start\")\n",
    "plt.xlabel(\"Local estimation\")\n",
    "plt.ylabel(\"HF endpoint estimation\")"
   ]
  },
  {
   "cell_type": "code",
   "execution_count": 21,
   "id": "88c86aaa-90c3-4a4a-be3c-4292010e053e",
   "metadata": {},
   "outputs": [
    {
     "data": {
      "text/plain": [
       "Text(0, 0.5, 'HF endpoint estimation')"
      ]
     },
     "execution_count": 21,
     "metadata": {},
     "output_type": "execute_result"
    },
    {
     "data": {
      "image/png": "[encoded data removed]",
      "text/plain": [
       "<Figure size 640x480 with 1 Axes>"
      ]
     },
     "metadata": {},
     "output_type": "display_data"
    }
   ],
   "source": [
    "sns.scatterplot(data = df_all, x = \"end_logprob\", y = \"lp_end\")\n",
    "plt.xlabel(\"Local estimation\")\n",
    "plt.ylabel(\"HF endpoint estimation\")"
   ]
  },
  {
   "cell_type": "code",
   "execution_count": 22,
   "id": "ddcc9308-4850-44ae-aac0-b3a077cd08d2",
   "metadata": {},
   "outputs": [
    {
     "data": {
      "text/plain": [
       "Text(0, 0.5, 'HF endpoint estimation')"
      ]
     },
     "execution_count": 22,
     "metadata": {},
     "output_type": "execute_result"
    },
    {
     "data": {
      "image/png": "[encoded data removed]",
      "text/plain": [
       "<Figure size 640x480 with 1 Axes>"
      ]
     },
     "metadata": {},
     "output_type": "display_data"
    }
   ],
   "source": [
    "sns.scatterplot(data = df_all, x = \"log_odds_local\", y = \"log_odds\")\n",
    "plt.xlabel(\"Local estimation\")\n",
    "plt.ylabel(\"HF endpoint estimation\")"
   ]
  },
  {
   "cell_type": "code",
   "execution_count": 16,
   "id": "f82ef125-56a5-4116-b068-168f81abe8d9",
   "metadata": {},
   "outputs": [
    {
     "data": {
      "text/plain": [
       "PearsonRResult(statistic=0.8913945108405985, pvalue=3.247577841207395e-67)"
      ]
     },
     "execution_count": 16,
     "metadata": {},
     "output_type": "execute_result"
    }
   ],
   "source": [
    "ss.pearsonr(df_all['log_odds_local'], df_all['log_odds'])"
   ]
  },
  {
   "cell_type": "code",
   "execution_count": 23,
   "id": "8885afe1-4dd1-4feb-9f20-9fecf5b0f270",
   "metadata": {},
   "outputs": [
    {
     "data": {
      "text/plain": [
       "PearsonRResult(statistic=0.925443934163454, pvalue=5.1473075712118807e-82)"
      ]
     },
     "execution_count": 23,
     "metadata": {},
     "output_type": "execute_result"
    }
   ],
   "source": [
    "ss.pearsonr(df_all['start_logprob'], df_all['lp_start'])"
   ]
  },
  {
   "cell_type": "code",
   "execution_count": 24,
   "id": "17a8fbea-12d0-4dff-89ea-0b9f7054d894",
   "metadata": {},
   "outputs": [
    {
     "data": {
      "text/plain": [
       "PearsonRResult(statistic=0.9984570160096011, pvalue=1.6710808246355e-240)"
      ]
     },
     "execution_count": 24,
     "metadata": {},
     "output_type": "execute_result"
    }
   ],
   "source": [
    "ss.pearsonr(df_all['end_logprob'], df_all['lp_end'])"
   ]
  },
  {
   "cell_type": "code",
   "execution_count": null,
   "id": "4270c4ea-3d6d-479a-9261-e253edfa762a",
   "metadata": {},
   "outputs": [],
   "source": []
  },
  {
   "cell_type": "code",
   "execution_count": 25,
   "id": "0257ed67-e88f-4744-a2c9-46e1400f88dd",
   "metadata": {},
   "outputs": [],
   "source": [
    "df_all['diff'] = np.abs(df_all['log_odds'] - df_all['log_odds_local'])"
   ]
  },
  {
   "cell_type": "code",
   "execution_count": 31,
   "id": "a24cb63b-4f87-4253-aea8-e4804fbee451",
   "metadata": {},
   "outputs": [
    {
     "data": {
      "text/html": [
       "<div>\n",
       "<style scoped>\n",
       "    .dataframe tbody tr th:only-of-type {\n",
       "        vertical-align: middle;\n",
       "    }\n",
       "\n",
       "    .dataframe tbody tr th {\n",
       "        vertical-align: top;\n",
       "    }\n",
       "\n",
       "    .dataframe thead th {\n",
       "        text-align: right;\n",
       "    }\n",
       "</style>\n",
       "<table border=\"1\" class=\"dataframe\">\n",
       "  <thead>\n",
       "    <tr style=\"text-align: right;\">\n",
       "      <th></th>\n",
       "      <th>start</th>\n",
       "      <th>diff</th>\n",
       "    </tr>\n",
       "  </thead>\n",
       "  <tbody>\n",
       "    <tr>\n",
       "      <th>0</th>\n",
       "      <td>box</td>\n",
       "      <td>0.076239</td>\n",
       "    </tr>\n",
       "    <tr>\n",
       "      <th>1</th>\n",
       "      <td>cupboard</td>\n",
       "      <td>1.044084</td>\n",
       "    </tr>\n",
       "    <tr>\n",
       "      <th>2</th>\n",
       "      <td>drawer</td>\n",
       "      <td>0.167900</td>\n",
       "    </tr>\n",
       "    <tr>\n",
       "      <th>3</th>\n",
       "      <td>garage</td>\n",
       "      <td>0.103058</td>\n",
       "    </tr>\n",
       "    <tr>\n",
       "      <th>4</th>\n",
       "      <td>hall</td>\n",
       "      <td>0.066994</td>\n",
       "    </tr>\n",
       "    <tr>\n",
       "      <th>5</th>\n",
       "      <td>shed</td>\n",
       "      <td>0.106461</td>\n",
       "    </tr>\n",
       "    <tr>\n",
       "      <th>6</th>\n",
       "      <td>sink</td>\n",
       "      <td>0.102570</td>\n",
       "    </tr>\n",
       "    <tr>\n",
       "      <th>7</th>\n",
       "      <td>stable</td>\n",
       "      <td>0.116707</td>\n",
       "    </tr>\n",
       "    <tr>\n",
       "      <th>8</th>\n",
       "      <td>suitcase</td>\n",
       "      <td>0.188282</td>\n",
       "    </tr>\n",
       "    <tr>\n",
       "      <th>9</th>\n",
       "      <td>toolbox</td>\n",
       "      <td>1.938877</td>\n",
       "    </tr>\n",
       "  </tbody>\n",
       "</table>\n",
       "</div>"
      ],
      "text/plain": [
       "      start      diff\n",
       "0       box  0.076239\n",
       "1  cupboard  1.044084\n",
       "2    drawer  0.167900\n",
       "3    garage  0.103058\n",
       "4      hall  0.066994\n",
       "5      shed  0.106461\n",
       "6      sink  0.102570\n",
       "7    stable  0.116707\n",
       "8  suitcase  0.188282\n",
       "9   toolbox  1.938877"
      ]
     },
     "execution_count": 31,
     "metadata": {},
     "output_type": "execute_result"
    }
   ],
   "source": [
    "df_all[['start', 'diff']].groupby([\"start\"]).mean().reset_index()"
   ]
  },
  {
   "cell_type": "code",
   "execution_count": null,
   "id": "4ab941fe-78f1-469a-a3af-39fb3465cd3d",
   "metadata": {},
   "outputs": [],
   "source": []
  }
 ],
 "metadata": {
  "kernelspec": {
   "display_name": "Python 3 (ipykernel)",
   "language": "python",
   "name": "python3"
  },
  "language_info": {
   "codemirror_mode": {
    "name": "ipython",
    "version": 3
   },
   "file_extension": ".py",
   "mimetype": "text/x-python",
   "name": "python",
   "nbconvert_exporter": "python",
   "pygments_lexer": "ipython3",
   "version": "3.11.0"
  }
 },
 "nbformat": 4,
 "nbformat_minor": 5
}
